{
  "cells": [
    {
      "cell_type": "markdown",
      "metadata": {},
      "source": [
        "# IT1050 Module 9 \u2013 In\u2011Class SQL Lab (SQLite on Binder)\n",
        "**Student Name:** (type here)  \n",
        "**Date:** 2025-10-22\n",
        "\n",
        "This notebook is a *self\u2011contained* version of the lab. Run each cell to see the output for your screenshots.\n"
      ]
    },
    {
      "cell_type": "markdown",
      "metadata": {},
      "source": [
        "## Lab Setup\n",
        "We will use a local SQLite database file named `StudentDB_demo.db`. The `%sql` magic lets us run SQL directly.\n"
      ]
    },
    {
      "cell_type": "code",
      "execution_count": null,
      "metadata": {},
      "outputs": [],
      "source": [
        "# Install (Binder auto-installs via requirements.txt, but keep for local runs)\n",
        "import sys, subprocess, os, sqlite3, pandas as pd\n",
        "try:\n",
        "    import IPython, sqlalchemy # noqa\n",
        "except Exception:\n",
        "    subprocess.run([sys.executable, \"-m\", \"pip\", \"install\", \"ipython-sql\", \"SQLAlchemy\", \"pandas\"], check=True)\n",
        "\n",
        "# Load SQL magic and connect to SQLite DB file\n",
        "%load_ext sql\n",
        "%sql sqlite:///StudentDB_demo.db\n",
        "\n",
        "# Helper: show existing tables\n",
        "%%sql\n",
        "SELECT name AS table_name\n",
        "FROM sqlite_master\n",
        "WHERE type='table'\n",
        "ORDER BY name;\n"
      ]
    },
    {
      "cell_type": "markdown",
      "metadata": {},
      "source": [
        "## Task 1: Create Tables\n",
        "Create `Students` and `Courses` tables.\n"
      ]
    },
    {
      "cell_type": "code",
      "execution_count": null,
      "metadata": {},
      "outputs": [],
      "source": [
        "%%sql\n",
        "DROP TABLE IF EXISTS Enrollments;\n",
        "DROP TABLE IF EXISTS Students;\n",
        "DROP TABLE IF EXISTS Courses;\n",
        "\n",
        "CREATE TABLE Students (\n",
        "  student_id INTEGER PRIMARY KEY,\n",
        "  first_name VARCHAR(50),\n",
        "  last_name  VARCHAR(50),\n",
        "  age INT,\n",
        "  GPA DECIMAL(3,2),\n",
        "  email VARCHAR(100)\n",
        ");\n",
        "\n",
        "CREATE TABLE Courses (\n",
        "  course_id INTEGER PRIMARY KEY,\n",
        "  course_name VARCHAR(100),\n",
        "  credits INT\n",
        ");\n",
        "\n",
        "-- Show tables after creation\n",
        "SELECT name AS table_name\n",
        "FROM sqlite_master\n",
        "WHERE type='table'\n",
        "ORDER BY name;\n"
      ]
    },
    {
      "cell_type": "markdown",
      "metadata": {},
      "source": [
        "## Task 2: Add Foreign Key Relationship\n",
        "Create `Enrollments` with `student_id` and `course_id` as foreign keys.\n"
      ]
    },
    {
      "cell_type": "code",
      "execution_count": null,
      "metadata": {},
      "outputs": [],
      "source": [
        "%%sql\n",
        "PRAGMA foreign_keys = ON;\n",
        "\n",
        "CREATE TABLE Enrollments (\n",
        "  enrollment_id INTEGER PRIMARY KEY,\n",
        "  student_id INT,\n",
        "  course_id INT,\n",
        "  enrollment_date TEXT,\n",
        "  FOREIGN KEY (student_id) REFERENCES Students(student_id),\n",
        "  FOREIGN KEY (course_id) REFERENCES Courses(course_id)\n",
        ");\n",
        "\n",
        "-- Show schema of Enrollments\n",
        "PRAGMA table_info('Enrollments');\n"
      ]
    },
    {
      "cell_type": "markdown",
      "metadata": {},
      "source": [
        "## Task 3A: Insert Data into Tables\n",
        "Insert at least two rows in `Students` and `Courses`, and link them via `Enrollments`.\n"
      ]
    },
    {
      "cell_type": "code",
      "execution_count": null,
      "metadata": {},
      "outputs": [],
      "source": [
        "%%sql\n",
        "-- Insert Students\n",
        "INSERT INTO Students (student_id, first_name, last_name, age, GPA, email) VALUES\n",
        "  (1, 'John', 'Doe', 17, 3.50, 'john.doe@example.com'),\n",
        "  (2, 'Jane', 'Smith', 15, 4.00, 'jane.smith@example.com');\n",
        "\n",
        "-- Insert Courses\n",
        "INSERT INTO Courses (course_id, course_name, credits) VALUES\n",
        "  (1, 'Database Systems', 3),\n",
        "  (2, 'Data Structures', 4);\n",
        "\n",
        "-- Insert Enrollments\n",
        "INSERT INTO Enrollments (enrollment_id, student_id, course_id, enrollment_date) VALUES\n",
        "  (1, 1, 1, '2024-10-01'),\n",
        "  (2, 2, 2, '2024-10-02');\n",
        "\n",
        "-- Show current data\n",
        "SELECT * FROM Students;\n",
        "SELECT * FROM Courses;\n",
        "SELECT * FROM Enrollments;\n"
      ]
    },
    {
      "cell_type": "markdown",
      "metadata": {},
      "source": [
        "## Task 3B: Add Your Details\n",
        "Edit the values to add your own row to `Students` (use your name, age, email, and an estimated GPA).\n"
      ]
    },
    {
      "cell_type": "code",
      "execution_count": null,
      "metadata": {},
      "outputs": [],
      "source": [
        "%%sql\n",
        "-- Change these values and re-run to add your own record\n",
        "INSERT INTO Students (student_id, first_name, last_name, age, GPA, email) VALUES\n",
        "  (3, 'YourFirst', 'YourLast', 18, 3.80, 'your.name@example.com');\n",
        "\n",
        "SELECT * FROM Students ORDER BY student_id;\n"
      ]
    },
    {
      "cell_type": "markdown",
      "metadata": {},
      "source": [
        "## Task 4: Query the Database 1\n",
        "Select everything from `Students`.\n"
      ]
    },
    {
      "cell_type": "code",
      "execution_count": null,
      "metadata": {},
      "outputs": [],
      "source": [
        "%%sql\n",
        "SELECT * FROM Students;\n"
      ]
    },
    {
      "cell_type": "markdown",
      "metadata": {},
      "source": [
        "## Task 5: Query the Database 2 (JOIN)\n",
        "Show student names and the courses they are enrolled in.\n"
      ]
    },
    {
      "cell_type": "code",
      "execution_count": null,
      "metadata": {},
      "outputs": [],
      "source": [
        "%%sql\n",
        "SELECT s.first_name, s.last_name, c.course_name\n",
        "FROM Students s\n",
        "JOIN Enrollments e ON s.student_id = e.student_id\n",
        "JOIN Courses c ON e.course_id = c.course_id\n",
        "ORDER BY s.last_name, s.first_name;\n"
      ]
    },
    {
      "cell_type": "markdown",
      "metadata": {},
      "source": [
        "## Task 6: Update Records\n",
        "Update the email for `student_id = 1`.\n"
      ]
    },
    {
      "cell_type": "code",
      "execution_count": null,
      "metadata": {},
      "outputs": [],
      "source": [
        "%%sql\n",
        "UPDATE Students\n",
        "SET email = 'new.email@example.com'\n",
        "WHERE student_id = 1;\n",
        "\n",
        "SELECT * FROM Students WHERE student_id = 1;\n"
      ]
    },
    {
      "cell_type": "markdown",
      "metadata": {},
      "source": [
        "## Task 7: Delete Records\n",
        "Delete one record from `Enrollments` (e.g., `enrollment_id = 1`). Show the table after deletion.\n"
      ]
    },
    {
      "cell_type": "code",
      "execution_count": null,
      "metadata": {},
      "outputs": [],
      "source": [
        "%%sql\n",
        "DELETE FROM Enrollments WHERE enrollment_id = 1;\n",
        "\n",
        "SELECT * FROM Enrollments ORDER BY enrollment_id;\n"
      ]
    },
    {
      "cell_type": "markdown",
      "metadata": {},
      "source": [
        "## Conclusion & Reflection\n",
        "You\u2019ve created tables, defined foreign keys, inserted records, run joins, updated, and deleted data.\n",
        "\n",
        "**Reflect:** What was most challenging? What do you want to review before the next lab?\n"
      ]
    }
  ],
  "metadata": {
    "kernelspec": {
      "display_name": "Python 3",
      "language": "python",
      "name": "python3"
    },
    "language_info": {
      "name": "python",
      "version": "3.x"
    }
  },
  "nbformat": 4,
  "nbformat_minor": 5
}